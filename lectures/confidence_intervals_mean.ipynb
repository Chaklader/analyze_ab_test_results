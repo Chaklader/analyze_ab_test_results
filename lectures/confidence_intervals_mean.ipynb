{
 "cells": [
  {
   "cell_type": "markdown",
   "id": "ef86607b",
   "metadata": {},
   "source": [
    "### Note - the numbers here are slightly different - though setting the seed will ensure your numbers match.\n",
    "\n",
    "### In the video, the kernel was not reset, so the values are different from what you will find below."
   ]
  },
  {
   "cell_type": "code",
   "execution_count": null,
   "id": "609d3d53",
   "metadata": {},
   "outputs": [],
   "source": [
    "import pandas as pd\n",
    "import numpy as np\n",
    "import matplotlib.pyplot as plt\n",
    "\n",
    "np.random.seed(42)\n",
    "\n",
    "coffee_full = pd.read_csv('./coffee_dataset.csv')\n",
    "coffee_red = coffee_full.sample(200) #this is the only data you might actually get in the real world."
   ]
  },
  {
   "cell_type": "code",
   "execution_count": null,
   "id": "492a8e3b",
   "metadata": {},
   "outputs": [],
   "source": [
    "coffee_full.head()"
   ]
  },
  {
   "cell_type": "code",
   "execution_count": null,
   "id": "c4e13500",
   "metadata": {},
   "outputs": [],
   "source": [
    "coffee_red.head()"
   ]
  },
  {
   "cell_type": "code",
   "execution_count": null,
   "id": "16f0c9c0",
   "metadata": {},
   "outputs": [],
   "source": [
    "coffee_red.shape"
   ]
  },
  {
   "cell_type": "code",
   "execution_count": null,
   "id": "f1453584",
   "metadata": {},
   "outputs": [],
   "source": [
    "coffee_full.shape"
   ]
  },
  {
   "cell_type": "code",
   "execution_count": null,
   "id": "efa80f20",
   "metadata": {},
   "outputs": [],
   "source": [
    "coffee_red.drinks_coffee.mean()"
   ]
  },
  {
   "cell_type": "code",
   "execution_count": null,
   "id": "05689ab6",
   "metadata": {},
   "outputs": [],
   "source": [
    "coffee_red[coffee_red['drinks_coffee'] == True]['height'].mean()"
   ]
  },
  {
   "cell_type": "code",
   "execution_count": null,
   "id": "83117586",
   "metadata": {},
   "outputs": [],
   "source": [
    "bootsample = coffee_red.sample(200, replace=True)\n",
    "bootsample[bootsample['drinks_coffee'] == True]['height'].mean()"
   ]
  },
  {
   "cell_type": "code",
   "execution_count": null,
   "id": "fbbb6fc9",
   "metadata": {},
   "outputs": [],
   "source": [
    "boot_means = []\n",
    "for _ in range(10000):\n",
    "    bootsample = coffee_red.sample(200, replace=True)\n",
    "    boot_means.append(bootsample[bootsample['drinks_coffee'] == True]['height'].mean())"
   ]
  },
  {
   "cell_type": "code",
   "execution_count": null,
   "id": "0b2eb9ed",
   "metadata": {},
   "outputs": [],
   "source": [
    "plt.hist(boot_means);"
   ]
  },
  {
   "cell_type": "code",
   "execution_count": null,
   "id": "528b34c2",
   "metadata": {},
   "outputs": [],
   "source": [
    "np.percentile(boot_means, 2.5), np.percentile(boot_means, 97.5)"
   ]
  },
  {
   "cell_type": "code",
   "execution_count": null,
   "id": "07f501ea",
   "metadata": {},
   "outputs": [],
   "source": [
    "coffee_full[coffee_full['drinks_coffee'] == True]['height'].mean()"
   ]
  },
  {
   "cell_type": "code",
   "execution_count": null,
   "id": "adc48a3a",
   "metadata": {},
   "outputs": [],
   "source": []
  }
 ],
 "metadata": {
  "kernelspec": {
   "display_name": "Python 3 (ipykernel)",
   "language": "python",
   "name": "python3"
  },
  "language_info": {
   "codemirror_mode": {
    "name": "ipython",
    "version": 3
   },
   "file_extension": ".py",
   "mimetype": "text/x-python",
   "name": "python",
   "nbconvert_exporter": "python",
   "pygments_lexer": "ipython3",
   "version": "3.10.13"
  }
 },
 "nbformat": 4,
 "nbformat_minor": 5
}
