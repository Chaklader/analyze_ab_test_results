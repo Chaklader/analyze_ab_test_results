{
 "cells": [
  {
   "cell_type": "markdown",
   "metadata": {},
   "source": [
    "## Analyze A/B Test Results\n",
    "\n",
    "This project will assure you have mastered the subjects covered in the statistics lessons.  The hope is to have this project be as comprehensive of these topics as possible.  Good luck!\n",
    "\n",
    "Corresponding with this notebook is a slide deck where you will need to update all the portions in red.  Completing the notebook will provide all the results needed for the slides.  **Correctly completing the slides is a required part of the project.**\n",
    "\n",
    "## Table of Contents\n",
    "- [Introduction](#intro)\n",
    "- [Part I - Descriptive Statistics](#descriptive)\n",
    "- [Part II - Probability](#probability)\n",
    "- [Part III - Experimentation](#experimentation)\n",
    "- [Part IV - Algorithms](#algorithms)\n",
    "\n",
    "\n",
    "<a id='intro'></a>\n",
    "### Introduction\n",
    "\n",
    "A/B tests are very commonly performed by data analysts and data scientists.  For this project, you will be working to understand the results of an A/B test run by an e-commerce website.  Your goal is to work through this notebook to help the company understand if they should implement the new page, keep the old page, or perhaps run the experiment longer to make their decision.\n",
    "\n",
    "**As you work through this notebook, follow along in the classroom and answer the corresponding quiz questions associated with each question.** The labels for each classroom concept are provided for each question.  This will assure you are on the right track as you work through the project, and you can feel more confident in your final submission meeting the criteria.  As a final check, assure you meet all the criteria on the [RUBRIC](https://review.udacity.com/#!/projects/37e27304-ad47-4eb0-a1ab-8c12f60e43d0/rubric).\n",
    "\n",
    "<a id='descriptive'></a>\n",
    "#### Part I - Descriptive Statistics\n",
    "\n",
    "To get started, let's import our libraries."
   ]
  },
  {
   "cell_type": "code",
   "execution_count": 82,
   "metadata": {
    "collapsed": true
   },
   "outputs": [],
   "source": [
    "import pandas as pd\n",
    "import numpy as np\n",
    "import random\n",
    "import matplotlib.pyplot as plt\n",
    "%matplotlib inline\n",
    "\n",
    "#We are setting the seed to assure you get the same answers on quizzes as we set up\n",
    "random.seed(0)"
   ]
  },
  {
   "cell_type": "markdown",
   "metadata": {},
   "source": [
    "For each of the parts of question `1` notice links to [pandas documentation](https://pandas.pydata.org/) is provided to assist with answering the questions.  Though there are other ways you could solve the questions, the documentation is provided to assist you with one fast way to find the answer to each question.\n",
    "\n",
    "\n",
    "`1.a)` Now, read in the `ab_data.csv` data. Store it in `df`. Read in the dataset and take a look at the top few rows here. **This question is completed for you**:"
   ]
  },
  {
   "cell_type": "code",
   "execution_count": 83,
   "metadata": {
    "collapsed": true
   },
   "outputs": [
    {
     "data": {
      "text/html": [
       "<div>\n",
       "<style scoped>\n",
       "    .dataframe tbody tr th:only-of-type {\n",
       "        vertical-align: middle;\n",
       "    }\n",
       "\n",
       "    .dataframe tbody tr th {\n",
       "        vertical-align: top;\n",
       "    }\n",
       "\n",
       "    .dataframe thead th {\n",
       "        text-align: right;\n",
       "    }\n",
       "</style>\n",
       "<table border=\"1\" class=\"dataframe\">\n",
       "  <thead>\n",
       "    <tr style=\"text-align: right;\">\n",
       "      <th></th>\n",
       "      <th>country</th>\n",
       "      <th>group</th>\n",
       "      <th>converted</th>\n",
       "    </tr>\n",
       "  </thead>\n",
       "  <tbody>\n",
       "    <tr>\n",
       "      <th>0</th>\n",
       "      <td>UK</td>\n",
       "      <td>control</td>\n",
       "      <td>0</td>\n",
       "    </tr>\n",
       "    <tr>\n",
       "      <th>1</th>\n",
       "      <td>US</td>\n",
       "      <td>treatment</td>\n",
       "      <td>1</td>\n",
       "    </tr>\n",
       "    <tr>\n",
       "      <th>2</th>\n",
       "      <td>UK</td>\n",
       "      <td>treatment</td>\n",
       "      <td>0</td>\n",
       "    </tr>\n",
       "    <tr>\n",
       "      <th>3</th>\n",
       "      <td>UK</td>\n",
       "      <td>control</td>\n",
       "      <td>0</td>\n",
       "    </tr>\n",
       "    <tr>\n",
       "      <th>4</th>\n",
       "      <td>UK</td>\n",
       "      <td>treatment</td>\n",
       "      <td>0</td>\n",
       "    </tr>\n",
       "  </tbody>\n",
       "</table>\n",
       "</div>"
      ],
      "text/plain": [
       "  country      group  converted\n",
       "0      UK    control          0\n",
       "1      US  treatment          1\n",
       "2      UK  treatment          0\n",
       "3      UK    control          0\n",
       "4      UK  treatment          0"
      ]
     },
     "execution_count": 83,
     "metadata": {},
     "output_type": "execute_result"
    }
   ],
   "source": [
    "df = pd.read_csv('ab_data.csv')\n",
    "df.head()"
   ]
  },
  {
   "cell_type": "markdown",
   "metadata": {},
   "source": [
    "`b)` Use the below cell to find the number of rows in the dataset. [Helpful  Pandas Link](https://pandas.pydata.org/docs/reference/api/pandas.DataFrame.shape.html#pandas.DataFrame.shape)"
   ]
  },
  {
   "cell_type": "code",
   "execution_count": 84,
   "metadata": {
    "collapsed": true
   },
   "outputs": [
    {
     "data": {
      "text/plain": [
       "69889"
      ]
     },
     "execution_count": 84,
     "metadata": {},
     "output_type": "execute_result"
    }
   ],
   "source": [
    "df.shape[0]  # or len(df)"
   ]
  },
  {
   "cell_type": "markdown",
   "metadata": {
    "collapsed": true
   },
   "source": [
    "`c)` The proportion of users converted.  [Helpful  Pandas Link](https://pandas.pydata.org/docs/reference/api/pandas.DataFrame.mean.html)"
   ]
  },
  {
   "cell_type": "code",
   "execution_count": 85,
   "metadata": {
    "collapsed": true
   },
   "outputs": [
    {
     "data": {
      "text/plain": [
       "np.float64(0.13047832992316388)"
      ]
     },
     "execution_count": 85,
     "metadata": {},
     "output_type": "execute_result"
    }
   ],
   "source": [
    "df['converted'].mean()"
   ]
  },
  {
   "cell_type": "markdown",
   "metadata": {},
   "source": [
    "`d)` Do any of the rows have missing values? [Helpful Pandas Link One](https://pandas.pydata.org/docs/reference/api/pandas.DataFrame.isnull.html) and [Helpful Pandas Link Two](https://pandas.pydata.org/docs/reference/api/pandas.DataFrame.sum.html)"
   ]
  },
  {
   "cell_type": "code",
   "execution_count": 86,
   "metadata": {
    "collapsed": true
   },
   "outputs": [
    {
     "data": {
      "text/plain": [
       "country      0\n",
       "group        0\n",
       "converted    0\n",
       "dtype: int64"
      ]
     },
     "execution_count": 86,
     "metadata": {},
     "output_type": "execute_result"
    }
   ],
   "source": [
    "df.isnull().sum()"
   ]
  },
  {
   "cell_type": "markdown",
   "metadata": {},
   "source": [
    "`e)` How many customers are from each country? Build a bar chart to show the count of visits from each country."
   ]
  },
  {
   "cell_type": "code",
   "execution_count": 87,
   "metadata": {},
   "outputs": [
    {
     "name": "stdout",
     "output_type": "stream",
     "text": [
      "Number of visitors from each country:\n",
      "country\n",
      "US    48850\n",
      "UK    17551\n",
      "CA     3488\n",
      "Name: count, dtype: int64\n"
     ]
    }
   ],
   "source": [
    "# number of visitors from each country - pull the necessary code from the next cell to provide just the counts\n",
    "# Get the count of visitors from each country\n",
    "country_counts = df['country'].value_counts()\n",
    "print(\"Number of visitors from each country:\")\n",
    "print(country_counts)"
   ]
  },
  {
   "cell_type": "code",
   "execution_count": 88,
   "metadata": {},
   "outputs": [
    {
     "data": {
      "image/png": "[encoded data removed]",
      "text/plain": [
       "<Figure size 640x480 with 1 Axes>"
      ]
     },
     "metadata": {},
     "output_type": "display_data"
    }
   ],
   "source": [
    "df['country'].value_counts().plot(kind='bar');\n",
    "plt.title('Number of Visits From Each Country');\n",
    "plt.ylabel('Count of Visits');\n",
    "plt.show();"
   ]
  },
  {
   "cell_type": "markdown",
   "metadata": {},
   "source": [
    "`f)` Recognize that all of your columns are of a **categorical data type** with the exception of one.  Which column is not **categorical**? [Helpful Pandas Link](https://pandas.pydata.org/docs/reference/api/pandas.DataFrame.info.html)"
   ]
  },
  {
   "cell_type": "code",
   "execution_count": 52,
   "metadata": {},
   "outputs": [
    {
     "name": "stdout",
     "output_type": "stream",
     "text": [
      "<class 'pandas.core.frame.DataFrame'>\n",
      "RangeIndex: 69889 entries, 0 to 69888\n",
      "Data columns (total 3 columns):\n",
      " #   Column     Non-Null Count  Dtype \n",
      "---  ------     --------------  ----- \n",
      " 0   country    69889 non-null  object\n",
      " 1   group      69889 non-null  object\n",
      " 2   converted  69889 non-null  int64 \n",
      "dtypes: int64(1), object(2)\n",
      "memory usage: 1.6+ MB\n",
      "\n",
      "Column data types:\n",
      "country      object\n",
      "group        object\n",
      "converted     int64\n",
      "dtype: object\n"
     ]
    }
   ],
   "source": [
    "df.info()\n",
    "\n",
    "print(\"\\nColumn data types:\")\n",
    "print(df.dtypes)"
   ]
  },
  {
   "cell_type": "markdown",
   "metadata": {},
   "source": [
    "The last column 'converted' is not categorical."
   ]
  },
  {
   "cell_type": "markdown",
   "metadata": {},
   "source": [
    "`g)` What are the possible values of the `converted` column?  Does it make sense that these values are the only possible values? Why or why not? \n",
    "\n",
    "**Here you can use one of the functions you used in an earlier question**."
   ]
  },
  {
   "cell_type": "code",
   "execution_count": 53,
   "metadata": {},
   "outputs": [
    {
     "name": "stdout",
     "output_type": "stream",
     "text": [
      "Possible values in 'converted' column:\n",
      "[0 1]\n",
      "\n",
      "Distribution of values:\n",
      "converted\n",
      "0    60770\n",
      "1     9119\n",
      "Name: count, dtype: int64\n"
     ]
    }
   ],
   "source": [
    "print(\"Possible values in 'converted' column:\")\n",
    "print(df['converted'].unique())\n",
    "\n",
    "print(\"\\nDistribution of values:\")\n",
    "print(df['converted'].value_counts())"
   ]
  },
  {
   "cell_type": "markdown",
   "metadata": {},
   "source": [
    "Yes, it makes perfect sense that 0 and 1 are the only possible values in the converted column because:\n",
    "\n",
    "1. **Binary Outcome**: In an A/B test for conversion, we're tracking a binary event - either a user converted (1) or they didn't (0). There's no in-between state.\n",
    "2. **Standard Practice**: Using binary encoding (0/1) is a standard practice in data analysis for:\n",
    "\n",
    "    - Easy statistical analysis\n",
    "    - Clear interpretation\n",
    "    - Efficient storage\n",
    "    - Compatible with most machine learning algorithms\n",
    "\n",
    "3. **Business Logic**: From a business perspective, a user either:\n",
    "\n",
    "    - Completed the desired action (conversion = 1)\n",
    "    - Did not complete the desired action (conversion = 0)\n",
    "\n",
    "Any other values would not make logical sense in this context, as we can't have partial conversions or multiple conversions per row in this dataset structure."
   ]
  },
  {
   "cell_type": "markdown",
   "metadata": {},
   "source": [
    "<a id='probability'></a>\n",
    "#### Part II - Probability\n",
    "\n",
    "`1.` Now that you have had a chance to learn more about the dataset, let's look more at how different factors are related to `converting`.\n",
    "\n",
    "`a)` What is the probability of an individual converting regardless of the page they receive or the country they are from? Simply, what is the chance of conversion in the dataset?"
   ]
  },
  {
   "cell_type": "code",
   "execution_count": 89,
   "metadata": {
    "collapsed": true
   },
   "outputs": [
    {
     "name": "stdout",
     "output_type": "stream",
     "text": [
      "The probability of conversion (regardless of page or country) is: 0.1305\n",
      "This means there is a 13.05% chance of conversion\n"
     ]
    }
   ],
   "source": [
    "overall_conversion_prob = df['converted'].mean()\n",
    "\n",
    "print(f\"The probability of conversion (regardless of page or country) is: {overall_conversion_prob:.4f}\")\n",
    "print(f\"This means there is a {overall_conversion_prob*100:.2f}% chance of conversion\")"
   ]
  },
  {
   "cell_type": "markdown",
   "metadata": {},
   "source": [
    "`b)` Given that an individual was in the `control` group, what is the probability they converted? **This question is completed for you**"
   ]
  },
  {
   "cell_type": "code",
   "execution_count": 90,
   "metadata": {
    "collapsed": true
   },
   "outputs": [
    {
     "data": {
      "text/plain": [
       "np.float64(0.1052540515600669)"
      ]
     },
     "execution_count": 90,
     "metadata": {},
     "output_type": "execute_result"
    }
   ],
   "source": [
    "df.query('group == \"control\"')['converted'].mean()"
   ]
  },
  {
   "cell_type": "markdown",
   "metadata": {},
   "source": [
    "`c)` Given that an individual was in the `treatment` group, what is the probability they converted?"
   ]
  },
  {
   "cell_type": "code",
   "execution_count": 91,
   "metadata": {},
   "outputs": [
    {
     "data": {
      "text/plain": [
       "np.float64(0.15532078043793132)"
      ]
     },
     "execution_count": 91,
     "metadata": {},
     "output_type": "execute_result"
    }
   ],
   "source": [
    "df.query('group == \"treatment\"')['converted'].mean()"
   ]
  },
  {
   "cell_type": "markdown",
   "metadata": {},
   "source": [
    "`d)` Do you see evidence that the treatment is related to higher `converted` rates?"
   ]
  },
  {
   "cell_type": "markdown",
   "metadata": {},
   "source": [
    "Yes, treatment group has a higher conversion rate **0.1553** compare to the **0.1052** in the control group"
   ]
  },
  {
   "cell_type": "markdown",
   "metadata": {},
   "source": [
    "`e)` What is the probability that an individual was in the `treatment`?"
   ]
  },
  {
   "cell_type": "code",
   "execution_count": 92,
   "metadata": {
    "collapsed": true
   },
   "outputs": [
    {
     "name": "stdout",
     "output_type": "stream",
     "text": [
      "The probability of being in the treatment group is: 0.5038\n",
      "This means 50.38% of users were in the treatment group\n",
      "\n",
      "Distribution of users in each group:\n",
      "group\n",
      "treatment    0.503813\n",
      "control      0.496187\n",
      "Name: proportion, dtype: float64\n"
     ]
    }
   ],
   "source": [
    "prob_treatment = len(df[df['group'] == 'treatment']) / len(df)\n",
    "\n",
    "print(f\"The probability of being in the treatment group is: {prob_treatment:.4f}\")\n",
    "print(f\"This means {prob_treatment*100:.2f}% of users were in the treatment group\")\n",
    "\n",
    "print(\"\\nDistribution of users in each group:\")\n",
    "print(df['group'].value_counts(normalize=True))"
   ]
  },
  {
   "cell_type": "markdown",
   "metadata": {},
   "source": [
    "`f)` What is the probability that an individual was from Canada `CA`?"
   ]
  },
  {
   "cell_type": "code",
   "execution_count": 93,
   "metadata": {},
   "outputs": [
    {
     "name": "stdout",
     "output_type": "stream",
     "text": [
      "The probability of being from Canada is: 0.0499\n",
      "This means 4.99% of users were from Canada\n",
      "\n",
      "Distribution of users across all countries:\n",
      "country\n",
      "US    0.698966\n",
      "UK    0.251127\n",
      "CA    0.049908\n",
      "Name: proportion, dtype: float64\n"
     ]
    }
   ],
   "source": [
    "prob_canada = len(df[df['country'] == 'CA']) / len(df)\n",
    "\n",
    "print(f\"The probability of being from Canada is: {prob_canada:.4f}\")\n",
    "print(f\"This means {prob_canada*100:.2f}% of users were from Canada\")\n",
    "\n",
    "print(\"\\nDistribution of users across all countries:\")\n",
    "print(df['country'].value_counts(normalize=True))"
   ]
  },
  {
   "cell_type": "markdown",
   "metadata": {},
   "source": [
    "`g)` Given that an individual was in the `US`, what was the probability that they `converted`? **This question is completed for you**\n",
    "\n",
    "$P(\\text{converted} == 1|\\text{country} ==\\text{\"US\"})$\n",
    "\n"
   ]
  },
  {
   "cell_type": "code",
   "execution_count": 94,
   "metadata": {},
   "outputs": [
    {
     "data": {
      "text/plain": [
       "np.float64(0.13277379733879222)"
      ]
     },
     "execution_count": 94,
     "metadata": {},
     "output_type": "execute_result"
    }
   ],
   "source": [
    "df.query('country == \"US\"')['converted'].mean()"
   ]
  },
  {
   "cell_type": "markdown",
   "metadata": {},
   "source": [
    "`h)` Given that an individual was in the `UK`, what was the probability that they `converted`? \n",
    "\n",
    "$P(\\text{converted} == 1|\\text{country} ==\\text{\"UK\"})$"
   ]
  },
  {
   "cell_type": "code",
   "execution_count": 95,
   "metadata": {},
   "outputs": [
    {
     "data": {
      "text/plain": [
       "np.float64(0.12512107572218106)"
      ]
     },
     "execution_count": 95,
     "metadata": {},
     "output_type": "execute_result"
    }
   ],
   "source": [
    "df.query('country == \"UK\"')['converted'].mean()"
   ]
  },
  {
   "cell_type": "markdown",
   "metadata": {},
   "source": [
    "`i)` Do you see evidence that the `converted` rate might differ from one country to the next?"
   ]
  },
  {
   "cell_type": "markdown",
   "metadata": {},
   "source": [
    "Yes, the conversion rates for US is **slightly higher** than the UK"
   ]
  },
  {
   "cell_type": "markdown",
   "metadata": {},
   "source": [
    "`j)` Consider the table below, fill in the conversion rates below to look at how conversion by country and treatment group vary.  The `US` column is done for you, and two methods for calculating the probabilities are shown - **COMPLETE THE REST OF THE TABLE**.  Does it appear that there could be an interaction between how country and treatment impact conversion?\n",
    "\n",
    "These two values that are filled in can be written as:\n",
    "\n",
    "$P(\\text{converted} == 1|(\\text{country} ==\\text{\"US\" AND }\\text{group} ==\\text{\"control\"})) = 10.7\\%$\n",
    "\n",
    "$P(\\text{converted} == 1|(\\text{country} ==\\text{\"US\" AND }\\text{group} ==\\text{\"treatment\"})) = 15.8\\%$\n",
    "\n",
    "|             | US          | UK          | CA          |\n",
    "| ----------- | ----------- | ----------- | ----------- |\n",
    "| Control     | 10.7%       |  %          |  %          |\n",
    "| Treatment   | 15.8%       |  %          |  %          |"
   ]
  },
  {
   "cell_type": "code",
   "execution_count": 61,
   "metadata": {},
   "outputs": [
    {
     "name": "stdout",
     "output_type": "stream",
     "text": [
      "0.10731404958677686\n",
      "0.1577687626774848\n"
     ]
    }
   ],
   "source": [
    "# Method 1  - explicitly calculate each probability\n",
    "print(df.query('country == \"US\" and group == \"control\" and converted == 1').shape[0]/df.query('country == \"US\" and group == \"control\"').shape[0]) \n",
    "print(df.query('country == \"US\" and group == \"treatment\" and converted == 1').shape[0]/df.query('country == \"US\" and group == \"treatment\"').shape[0])"
   ]
  },
  {
   "cell_type": "code",
   "execution_count": 62,
   "metadata": {},
   "outputs": [
    {
     "data": {
      "text/plain": [
       "group\n",
       "control      0.107314\n",
       "treatment    0.157769\n",
       "Name: converted, dtype: float64"
      ]
     },
     "execution_count": 62,
     "metadata": {},
     "output_type": "execute_result"
    }
   ],
   "source": [
    "# Method 2 - quickly calculate using `groupby`\n",
    "df.query('country == \"US\"').groupby('group')['converted'].mean()"
   ]
  },
  {
   "cell_type": "markdown",
   "metadata": {},
   "source": [
    "##### Solution -- Complete the Table Here\n",
    "\n",
    "|             | US          | UK          | CA          |\n",
    "| ----------- | ----------- | ----------- | ----------- |\n",
    "| Control     | 10.7%       |  10.16%          |  9.45%          |\n",
    "| Treatment   | 15.8%       |  14.87%          |  15.40%          |"
   ]
  },
  {
   "cell_type": "code",
   "execution_count": 96,
   "metadata": {},
   "outputs": [
    {
     "name": "stdout",
     "output_type": "stream",
     "text": [
      "UK conversion rates by group (%):\n",
      "control:    10.16%\n",
      "treatment:  14.87%\n",
      "\n",
      "\n",
      "CA conversion rates by group (%):\n",
      "control:    9.45%\n",
      "treatment:  15.40%\n"
     ]
    }
   ],
   "source": [
    "uk_conversion = df.query('country == \"UK\"').groupby('group')['converted'].mean() * 100\n",
    "\n",
    "print(\"UK conversion rates by group (%):\")\n",
    "print(f\"control:    {uk_conversion['control']:.2f}%\")\n",
    "print(f\"treatment:  {uk_conversion['treatment']:.2f}%\")\n",
    "print(\"\\n\")\n",
    "\n",
    "ca_conversion = df.query('country == \"CA\"').groupby('group')['converted'].mean() * 100\n",
    "\n",
    "print(\"CA conversion rates by group (%):\")\n",
    "print(f\"control:    {ca_conversion['control']:.2f}%\")\n",
    "print(f\"treatment:  {ca_conversion['treatment']:.2f}%\")"
   ]
  },
  {
   "cell_type": "markdown",
   "metadata": {},
   "source": [
    "<a id='experimentation'></a>\n",
    "### Part III - Experimentation\n",
    "\n",
    "`1.` Consider you need to make the decision just based on all the data provided.  If you want to assume that the control page is better unless the treatment page proves to be definitely better at a Type I error rate of 5%, you state your null and alternative hypotheses in terms of **$p_{control}$** and **$p_{treatment}$** as:  \n",
    "\n",
    "$H_{0}: p_{control} >= p_{treatment}$\n",
    "\n",
    "$H_{1}: p_{control} < p_{treatment}$\n",
    "\n",
    "Which is equivalent to:\n",
    "\n",
    "$H_{0}: p_{treatment} - p_{control} <= 0$\n",
    "\n",
    "$H_{1}: p_{treatment} - p_{control} > 0$\n",
    "\n",
    "\n",
    "Where  \n",
    "* **$p_{control}$** is the `converted` rate for the control page\n",
    "* **$p_{treatment}$** `converted` rate for the treatment page\n",
    "\n",
    "**Note for this experiment we are not looking at differences associated with country.**"
   ]
  },
  {
   "cell_type": "markdown",
   "metadata": {},
   "source": [
    "`c)` The proportion of users converted.  [Helpful  Pandas Link](https://pandas.pydata.org/docs/reference/api/pandas.DataFrame.mean.html)"
   ]
  },
  {
   "cell_type": "markdown",
   "metadata": {},
   "source": [
    "Assume under the null hypothesis, $p_{treatment}$ and $p_{control}$ both have \"true\" success rates equal to the **converted** success rate regardless of page - that is $p_{treatment}$ and $p_{control}$ are equal. Furthermore, assume they are equal to the **converted** rate in `df` regardless of the page. **These are set in the first cell below.**<br><br>\n",
    "\n",
    "* Use a sample size for each page equal to the ones in `df`. **These are also set below.**  <br><br>\n",
    "\n",
    "* Perform the sampling distribution for the difference in `converted` between the two pages over 500 iterations of calculating an estimate from the null.  <br><br>\n",
    "\n",
    "* Use the cells below to provide the necessary parts of this simulation.  \n",
    "\n",
    "If this doesn't make complete sense right now, don't worry - you are going to work through the problems below to complete this problem.  You can use **Quiz 4** in the classroom to make sure you are on the right track.<br><br>"
   ]
  },
  {
   "cell_type": "markdown",
   "metadata": {},
   "source": [
    "`a)` The **convert rate** for $p_{treatment}$ under the null.  The **convert rate** for $p_{control}$ under the null. The sample size for the `control` and the sample size for the `treatment` are from the original dataset. **All of these values are set below, and set the stage for the simulations you will run for the rest of this section.**"
   ]
  },
  {
   "cell_type": "code",
   "execution_count": 64,
   "metadata": {
    "collapsed": true
   },
   "outputs": [],
   "source": [
    "p_control_treatment_null  = df['converted'].mean()\n",
    "n_treatment = df.query('group == \"treatment\"').shape[0]\n",
    "n_control = df.query('group == \"control\"').shape[0]"
   ]
  },
  {
   "cell_type": "markdown",
   "metadata": {},
   "source": [
    "`b)` Use the results from part `a)` to simulate `n_treatment` transactions with a convert rate of `p_treatment_null`.  Store these $n_{treatment}$ 1's and 0's in a `list` of **treatment_converted**.  It should look something like the following (the 0's and and 1's **don't** need to be the same): \n",
    "\n",
    "`[0, 0, 1, 1, 0, ....]` "
   ]
  },
  {
   "cell_type": "code",
   "execution_count": 65,
   "metadata": {
    "collapsed": true
   },
   "outputs": [
    {
     "name": "stdout",
     "output_type": "stream",
     "text": [
      "First 10 simulated treatment conversion results:\n",
      "[0 1 0 0 0 0 0 0 0 0]\n",
      "\n",
      "Summary of simulated treatment conversions:\n",
      "Number of simulated conversions: 4569\n",
      "Simulated conversion rate: 0.1298\n",
      "Total number of trials: 35211\n"
     ]
    }
   ],
   "source": [
    "# Set random seed for reproducibility\n",
    "np.random.seed(42)\n",
    "\n",
    "# Simulate treatment group conversions\n",
    "treatment_converted = np.random.choice([0, 1], \n",
    "                                     size=n_treatment, \n",
    "                                     p=[1-p_control_treatment_null, p_control_treatment_null])\n",
    "\n",
    "# Show first 10 values\n",
    "print(\"First 10 simulated treatment conversion results:\")\n",
    "print(treatment_converted[:10])\n",
    "\n",
    "# Show summary statistics\n",
    "print(\"\\nSummary of simulated treatment conversions:\")\n",
    "print(f\"Number of simulated conversions: {sum(treatment_converted)}\")\n",
    "print(f\"Simulated conversion rate: {np.mean(treatment_converted):.4f}\")\n",
    "print(f\"Total number of trials: {len(treatment_converted)}\")"
   ]
  },
  {
   "cell_type": "markdown",
   "metadata": {},
   "source": [
    "`c)` Use the results from part `a)` to simulate `n_control` transactions with a convert rate of `p_control_null`.  Store these $n_{treatment}$ 1's and 0's in a `list` of **control_converted**.  It should look something like the following (the 0's and and 1's **don't** need to be exactly the same): \n",
    "\n",
    "`[0, 0, 1, 1, 0, ....]` "
   ]
  },
  {
   "cell_type": "code",
   "execution_count": 67,
   "metadata": {
    "collapsed": true
   },
   "outputs": [
    {
     "name": "stdout",
     "output_type": "stream",
     "text": [
      "First 10 simulated control conversion results:\n",
      "[0 1 0 0 0 0 0 0 0 0]\n",
      "\n",
      "Summary of simulated control conversions:\n",
      "Number of simulated conversions: 4508\n",
      "Simulated conversion rate: 0.1300\n",
      "Total number of trials: 34678\n"
     ]
    }
   ],
   "source": [
    "# Set random seed for reproducibility\n",
    "np.random.seed(42)\n",
    "\n",
    "# Simulate control group conversions\n",
    "control_converted = np.random.choice([0, 1], \n",
    "                                   size=n_control, \n",
    "                                   p=[1-p_control_treatment_null, p_control_treatment_null])\n",
    "\n",
    "# Show first 10 values\n",
    "print(\"First 10 simulated control conversion results:\")\n",
    "print(control_converted[:10])\n",
    "\n",
    "# Show summary statistics\n",
    "print(\"\\nSummary of simulated control conversions:\")\n",
    "print(f\"Number of simulated conversions: {sum(control_converted)}\")\n",
    "print(f\"Simulated conversion rate: {np.mean(control_converted):.4f}\")\n",
    "print(f\"Total number of trials: {len(control_converted)}\")"
   ]
  },
  {
   "cell_type": "markdown",
   "metadata": {},
   "source": [
    "`d)` Find the estimate for $p_{treatment}$ - $p_{control}$ under the null using the simulated values from part `(b)` and `(c)`."
   ]
  },
  {
   "cell_type": "code",
   "execution_count": 68,
   "metadata": {
    "collapsed": true
   },
   "outputs": [
    {
     "name": "stdout",
     "output_type": "stream",
     "text": [
      "Simulated treatment conversion rate: 0.1298\n",
      "Simulated control conversion rate: 0.1300\n",
      "Difference (p_treatment - p_control): -0.0002\n"
     ]
    }
   ],
   "source": [
    "# Calculate conversion rates for each group\n",
    "p_treatment_sim = np.mean(treatment_converted)\n",
    "p_control_sim = np.mean(control_converted)\n",
    "\n",
    "# Calculate the difference (treatment - control)\n",
    "p_diff = p_treatment_sim - p_control_sim\n",
    "\n",
    "print(f\"Simulated treatment conversion rate: {p_treatment_sim:.4f}\")\n",
    "print(f\"Simulated control conversion rate: {p_control_sim:.4f}\")\n",
    "print(f\"Difference (p_treatment - p_control): {p_diff:.4f}\")"
   ]
  },
  {
   "cell_type": "markdown",
   "metadata": {},
   "source": [
    "`e)` Simulate 500 $p_{treatment}$ - $p_{control}$ values using this same process as `b)`- `d)` similarly to the one you calculated in parts **a. through g.** above.  Store all 500 values in an numpy array called **p_diffs**.  This array should look similar to the below **(the values will not match AND this will likely take a bit of time to run)**:\n",
    "\n",
    "`[0.001, -0.003, 0.002, ...]`"
   ]
  },
  {
   "cell_type": "code",
   "execution_count": 69,
   "metadata": {
    "collapsed": true
   },
   "outputs": [],
   "source": [
    "np.random.seed(42)\n",
    "\n",
    "# Initialize empty array for storing differences\n",
    "p_diffs = []\n",
    "\n",
    "# Run 500 simulations\n",
    "for _ in range(500):\n",
    "    # Simulate treatment group\n",
    "    treatment_converted = np.random.choice([0, 1], \n",
    "                                         size=n_treatment, \n",
    "                                         p=[1-p_control_treatment_null, p_control_treatment_null])\n",
    "    \n",
    "    # Simulate control group\n",
    "    control_converted = np.random.choice([0, 1], \n",
    "                                       size=n_control, \n",
    "                                       p=[1-p_control_treatment_null, p_control_treatment_null])\n",
    "    \n",
    "    # Calculate and store difference in conversion rates\n",
    "    p_diff = np.mean(treatment_converted) - np.mean(control_converted)\n",
    "    p_diffs.append(p_diff)"
   ]
  },
  {
   "cell_type": "markdown",
   "metadata": {},
   "source": [
    "`f)` Plot a histogram of the **p_diffs**.  Does this plot look like what you expected?  Use the matching problem in the classroom to assure you fully understand what was computed here."
   ]
  },
  {
   "cell_type": "code",
   "execution_count": 70,
   "metadata": {
    "collapsed": true
   },
   "outputs": [
    {
     "data": {
      "image/png": "[encoded data removed]",
      "text/plain": [
       "<Figure size 1000x600 with 1 Axes>"
      ]
     },
     "metadata": {},
     "output_type": "display_data"
    },
    {
     "name": "stdout",
     "output_type": "stream",
     "text": [
      "\n",
      "Summary Statistics of Differences:\n",
      "Mean: -0.0001\n",
      "Standard Deviation: 0.0026\n"
     ]
    }
   ],
   "source": [
    "# Convert p_diffs to pandas Series\n",
    "p_diffs = pd.Series(p_diffs)\n",
    "\n",
    "# Create histogram with more formatting\n",
    "plt.figure(figsize=(10, 6))\n",
    "p_diffs.hist(bins=20, edgecolor='black')\n",
    "plt.title('Distribution of p_treatment - p_control Under Null Hypothesis')\n",
    "plt.xlabel('Difference in Conversion Rates (p_treatment - p_control)')\n",
    "plt.ylabel('Frequency')\n",
    "plt.axvline(x=0, color='red', linestyle='--', label='No Difference (Null)')\n",
    "plt.legend()\n",
    "plt.show()\n",
    "\n",
    "# Print summary statistics\n",
    "print(\"\\nSummary Statistics of Differences:\")\n",
    "print(f\"Mean: {p_diffs.mean():.4f}\")\n",
    "print(f\"Standard Deviation: {p_diffs.std():.4f}\")"
   ]
  },
  {
   "cell_type": "markdown",
   "metadata": {},
   "source": [
    "`g)` What proportion of the **p_diffs** are greater than the difference observed between `treatment` and `control` in `df`?"
   ]
  },
  {
   "cell_type": "code",
   "execution_count": 71,
   "metadata": {
    "collapsed": true
   },
   "outputs": [
    {
     "name": "stdout",
     "output_type": "stream",
     "text": [
      "Detailed Analysis:\n",
      "Treatment group conversion rate: 0.1553\n",
      "Control group conversion rate: 0.1053\n",
      "Observed difference (treatment - control): 0.0501\n",
      "\n",
      "Simulation Summary:\n",
      "Mean of simulated differences: -0.0001\n",
      "Min simulated difference: -0.0077\n",
      "Max simulated difference: 0.0077\n",
      "Number of simulated differences > observed: 0\n",
      "Total number of simulations: 500\n",
      "\n",
      "P-value (proportion > observed diff): 0.0000\n"
     ]
    }
   ],
   "source": [
    "# Calculate the actual difference observed in the original data\n",
    "treatment_mean = df.query('group == \"treatment\"')['converted'].mean()\n",
    "control_mean = df.query('group == \"control\"')['converted'].mean()\n",
    "obs_diff = treatment_mean - control_mean\n",
    "\n",
    "# Calculate proportion of simulated differences greater than observed difference\n",
    "prop_greater = (p_diffs > obs_diff).mean()\n",
    "\n",
    "# Detailed debugging information\n",
    "print(\"Detailed Analysis:\")\n",
    "print(f\"Treatment group conversion rate: {treatment_mean:.4f}\")\n",
    "print(f\"Control group conversion rate: {control_mean:.4f}\")\n",
    "print(f\"Observed difference (treatment - control): {obs_diff:.4f}\")\n",
    "print(\"\\nSimulation Summary:\")\n",
    "print(f\"Mean of simulated differences: {p_diffs.mean():.4f}\")\n",
    "print(f\"Min simulated difference: {p_diffs.min():.4f}\")\n",
    "print(f\"Max simulated difference: {p_diffs.max():.4f}\")\n",
    "print(f\"Number of simulated differences > observed: {(p_diffs > obs_diff).sum()}\")\n",
    "print(f\"Total number of simulations: {len(p_diffs)}\")\n",
    "print(f\"\\nP-value (proportion > observed diff): {prop_greater:.4f}\")"
   ]
  },
  {
   "cell_type": "markdown",
   "metadata": {},
   "source": [
    "`h)` In words, explain what you just computed in part `g)`  What is this value called in scientific studies?  What does this value mean in terms of whether or not there is a difference between the new and old pages using our Type I error rate of 0.05?"
   ]
  },
  {
   "cell_type": "markdown",
   "metadata": {},
   "source": [
    "**Answer**\n",
    "\n",
    "The value we computed in part (g) is called the p-value, which is a fundamental concept in statistical hypothesis testing. Here's what it means:\n",
    "\n",
    "1. **Definition**: The p-value represents the probability of observing a difference as extreme as (or more extreme than) what we actually observed in our data, assuming the null hypothesis is true (that there's no real difference between the pages).\n",
    "\n",
    "2. **Interpretation**:\n",
    "\n",
    "    - If the p-value is less than our significance level (0.05), we would reject the null hypothesis and conclude there is evidence of a difference between the pages.\n",
    "    - If the p-value is greater than 0.05, we fail to reject the null hypothesis, meaning we don't have sufficient evidence to conclude that the new page is better than the old page.\n",
    "\n",
    "3. **In this context**:\n",
    "    - We're testing whether the new page leads to better conversion rates than the old page\n",
    "    - Our Type I error rate of 0.05 means we're willing to accept a 5% chance of incorrectly concluding there's a difference when there actually isn't one\n",
    "    - The p-value helps us make this decision based on statistical evidence rather than chance\n",
    "\n",
    "This is a crucial metric in A/B testing and scientific studies as it helps quantify the strength of evidence against the null hypothesis and guides decision-making about whether to implement changes.\n",
    "\n"
   ]
  },
  {
   "cell_type": "markdown",
   "metadata": {},
   "source": [
    "<a id='algorithms'></a>\n",
    "### Part IV - Algorithms\n",
    "\n",
    "`1.` In this final part, you will see that the result you acheived in the previous A/B test can also be acheived by performing regression.  All the code needed for the modeling and results of the modeling for sections `b) - f)` have been completed for you. \n",
    "\n",
    "**You will need to complete sections `a)` and `g)`.**  \n",
    "\n",
    "**Then use the code from `1.` to assist with the question `2.`   You should be able to modify the code to assist in answering each of question 2's parts.**<br><br>\n",
    "\n",
    "`a)` Since each row is either a conversion or no conversion, what type of regression should you be performing in this case?"
   ]
  },
  {
   "cell_type": "markdown",
   "metadata": {},
   "source": [
    "**Answer**\n",
    "\n",
    "Since we're dealing with a binary outcome variable (conversion: yes=1 or no=0), we should use Logistic Regression. This is the appropriate choice because:\n",
    "\n",
    "1. **Binary Outcome**: The dependent variable (converted) has only two possible values (0 or 1)\n",
    "2. **Probability Prediction**: Logistic regression models the probability of success (conversion in this case)\n",
    "3. **Non-linear Relationship**: It uses a logistic function to model the non-linear relationship between the independent variables and the binary outcome\n",
    "4. **Bounded Output**: The predictions are bounded between 0 and 1, which is appropriate for probability estimation\n",
    "\n",
    "Logistic regression is particularly well-suited for A/B testing scenarios where we're trying to predict the probability of a conversion based on which page version (treatment or control) a user sees."
   ]
  },
  {
   "cell_type": "markdown",
   "metadata": {},
   "source": [
    "The goal is to use **statsmodels** to fit the regression model you specified in part `a)` to see if there is a significant difference in conversion based on which page a customer receives.  \n",
    "\n",
    "`b)` However, you first need to create a column for the intercept, and create a dummy variable column for which page each user received.  Add an **intercept** column, as well as an **ab_page** column, which is 1 when an individual receives the **treatment** and 0 if **control**.\n",
    "\n",
    "It may be helpful to look at the [get_dummies documentation](https://pandas.pydata.org/docs/reference/api/pandas.get_dummies.html) to encode the `ab_page` column.\n",
    "\n",
    "Below you can see an example of the new columns that will need to be added (The order of columns is not important.): **This question is completed for you**\n",
    "\n",
    "##### Example DataFrame\n",
    "| intercept   | group       | ab_page     | converted   |\n",
    "| ----------- | ----------- | ----------- | ----------- |\n",
    "| 1           |  control    |  0          |  0          |\n",
    "| 1           |  treatment  |  1          |  0          |\n",
    "| 1           |  treatment  |  1          |  0          |\n",
    "| 1           |  control    |  0          |  0          |\n",
    "| 1           |  treatment  |  1          |  1          |\n",
    "| 1           |  treatment  |  1          |  1          |\n",
    "| 1           |  treatment  |  1          |  0          |\n",
    "| 1           |  control    |  0          |  1          |"
   ]
  },
  {
   "cell_type": "code",
   "execution_count": 72,
   "metadata": {
    "collapsed": true
   },
   "outputs": [
    {
     "data": {
      "text/html": [
       "<div>\n",
       "<style scoped>\n",
       "    .dataframe tbody tr th:only-of-type {\n",
       "        vertical-align: middle;\n",
       "    }\n",
       "\n",
       "    .dataframe tbody tr th {\n",
       "        vertical-align: top;\n",
       "    }\n",
       "\n",
       "    .dataframe thead th {\n",
       "        text-align: right;\n",
       "    }\n",
       "</style>\n",
       "<table border=\"1\" class=\"dataframe\">\n",
       "  <thead>\n",
       "    <tr style=\"text-align: right;\">\n",
       "      <th></th>\n",
       "      <th>country</th>\n",
       "      <th>group</th>\n",
       "      <th>converted</th>\n",
       "      <th>intercept</th>\n",
       "      <th>ab_page</th>\n",
       "    </tr>\n",
       "  </thead>\n",
       "  <tbody>\n",
       "    <tr>\n",
       "      <th>0</th>\n",
       "      <td>UK</td>\n",
       "      <td>control</td>\n",
       "      <td>0</td>\n",
       "      <td>1</td>\n",
       "      <td>False</td>\n",
       "    </tr>\n",
       "    <tr>\n",
       "      <th>1</th>\n",
       "      <td>US</td>\n",
       "      <td>treatment</td>\n",
       "      <td>1</td>\n",
       "      <td>1</td>\n",
       "      <td>True</td>\n",
       "    </tr>\n",
       "    <tr>\n",
       "      <th>2</th>\n",
       "      <td>UK</td>\n",
       "      <td>treatment</td>\n",
       "      <td>0</td>\n",
       "      <td>1</td>\n",
       "      <td>True</td>\n",
       "    </tr>\n",
       "    <tr>\n",
       "      <th>3</th>\n",
       "      <td>UK</td>\n",
       "      <td>control</td>\n",
       "      <td>0</td>\n",
       "      <td>1</td>\n",
       "      <td>False</td>\n",
       "    </tr>\n",
       "    <tr>\n",
       "      <th>4</th>\n",
       "      <td>UK</td>\n",
       "      <td>treatment</td>\n",
       "      <td>0</td>\n",
       "      <td>1</td>\n",
       "      <td>True</td>\n",
       "    </tr>\n",
       "  </tbody>\n",
       "</table>\n",
       "</div>"
      ],
      "text/plain": [
       "  country      group  converted  intercept  ab_page\n",
       "0      UK    control          0          1    False\n",
       "1      US  treatment          1          1     True\n",
       "2      UK  treatment          0          1     True\n",
       "3      UK    control          0          1    False\n",
       "4      UK  treatment          0          1     True"
      ]
     },
     "execution_count": 72,
     "metadata": {},
     "output_type": "execute_result"
    }
   ],
   "source": [
    "df['intercept'] = 1\n",
    "df['ab_page'] = pd.get_dummies(df['group'])['treatment']\n",
    "df.head()"
   ]
  },
  {
   "cell_type": "markdown",
   "metadata": {},
   "source": [
    "`c)`  Create your `X` matrix and `y` response column that will be passed to your model, where you are testing if there is a difference in `treatment` vs. `control`. **This question is completed for you**"
   ]
  },
  {
   "cell_type": "code",
   "execution_count": 73,
   "metadata": {
    "collapsed": true
   },
   "outputs": [],
   "source": [
    "X = df[['intercept', 'ab_page']]\n",
    "y = df['converted']"
   ]
  },
  {
   "cell_type": "markdown",
   "metadata": {},
   "source": [
    "`d)` Use **statsmodels** to import and fit your regression model on the `X` and `y` from part `c)`. \n",
    "\n",
    "You can find the [statsmodels documentation to assist with this exercise here](https://www.statsmodels.org/stable/discretemod.html).  **This question is completed for you**"
   ]
  },
  {
   "cell_type": "code",
   "execution_count": 74,
   "metadata": {},
   "outputs": [
    {
     "name": "stdout",
     "output_type": "stream",
     "text": [
      "Shape of X: (69889, 2)\n",
      "Shape of y: (69889,)\n",
      "Optimization terminated successfully.\n",
      "         Current function value: 0.384516\n",
      "         Iterations 6\n"
     ]
    }
   ],
   "source": [
    "import statsmodels.api as sm\n",
    "import numpy as np\n",
    "\n",
    "y_array = np.asarray(y, dtype=np.float64)\n",
    "X_array = np.asarray(X, dtype=np.float64)\n",
    "\n",
    "print(f\"Shape of X: {X_array.shape}\")\n",
    "print(f\"Shape of y: {y_array.shape}\")\n",
    "\n",
    "logit_mod = sm.Logit(y_array, X_array)\n",
    "logit_res = logit_mod.fit()"
   ]
  },
  {
   "cell_type": "markdown",
   "metadata": {},
   "source": [
    "`e)` Provide the summary of your model below. **This question is completed for you**"
   ]
  },
  {
   "cell_type": "code",
   "execution_count": 75,
   "metadata": {
    "collapsed": true
   },
   "outputs": [
    {
     "name": "stdout",
     "output_type": "stream",
     "text": [
      "                           Logit Regression Results                           \n",
      "==============================================================================\n",
      "Dep. Variable:                      y   No. Observations:                69889\n",
      "Model:                          Logit   Df Residuals:                    69887\n",
      "Method:                           MLE   Df Model:                            1\n",
      "Date:                Sat, 30 Nov 2024   Pseudo R-squ.:                0.007175\n",
      "Time:                        18:24:13   Log-Likelihood:                -26873.\n",
      "converged:                       True   LL-Null:                       -27068.\n",
      "Covariance Type:            nonrobust   LLR p-value:                 1.810e-86\n",
      "==============================================================================\n",
      "                 coef    std err          z      P>|z|      [0.025      0.975]\n",
      "------------------------------------------------------------------------------\n",
      "const         -2.1402      0.017   -122.305      0.000      -2.174      -2.106\n",
      "x1             0.4467      0.023     19.539      0.000       0.402       0.492\n",
      "==============================================================================\n"
     ]
    }
   ],
   "source": [
    "print(logit_res.summary())"
   ]
  },
  {
   "cell_type": "markdown",
   "metadata": {},
   "source": [
    "`f)` What is the p-value associated with **ab_page**? Does it lead you to the same conclusion you drew in the **Experiment** section."
   ]
  },
  {
   "cell_type": "markdown",
   "metadata": {},
   "source": [
    "**Answer**\n",
    "\n",
    "\n",
    "## P-value from Logistic Regression\n",
    "The p-value associated with ab_page (represented by x1 in the logistic regression results) is 0.000. This indicates a statistically significant effect of the ab_page on conversion rates, suggesting that the treatment page has a significant impact compared to the control page.\n",
    "\n",
    "## Experimentation Section Analysis\n",
    "\n",
    "### 1. Simulated Conversion Rates\n",
    "* Simulated treatment conversion rate: 0.1298\n",
    "* Simulated control conversion rate: 0.1300\n",
    "* Observed difference: -0.0002, which is very close to zero, indicating no practical difference between the treatment and control groups in the simulation.\n",
    "\n",
    "### 2. Observed Data\n",
    "* Treatment group conversion rate: 0.1553\n",
    "* Control group conversion rate: 0.1053\n",
    "* Observed difference: 0.0501, indicating a notable difference in conversion rates in the actual data.\n",
    "\n",
    "### 3. Simulation Results\n",
    "* Mean of simulated differences: -0.0001\n",
    "* P-value from simulations: 0.0000, indicating that none of the simulated differences were greater than the observed difference.\n",
    "\n",
    "## Conclusion\n",
    "* **Statistical Significance**: Both the logistic regression and the simulation results suggest statistical significance. The regression shows a significant p-value for ab_page, and the simulation p-value is 0.0000, indicating that the observed difference is unlikely under the null hypothesis.\n",
    "\n",
    "* **Practical Implications**: While the logistic regression indicates statistical significance, the simulated data shows almost no difference between treatment and control groups, suggesting that the practical significance might be limited.\n",
    "\n",
    "* **Consistency with Experimentation**: The logistic regression results align with the observed data from the experimentation section, showing a significant difference in conversion rates. However, the simulation suggests that this difference might not be practically significant.\n",
    "\n",
    "In summary, the logistic regression and observed data suggest a significant effect of the treatment, but the simulation indicates this effect might not be practically meaningful. This highlights the importance of considering both statistical and practical significance in A/B testing."
   ]
  },
  {
   "cell_type": "markdown",
   "metadata": {},
   "source": [
    "`2. a)` Now you will want to create two new columns as dummy variables for `US` and `UK`.  Again, use `get_dummies` to add these columns.  The dataframe you create should include at least the following columns (If both columns for `US` and `UK` are `0` this represents `CA`.  The order of rows and columns is not important for you to match - it is just to illustrate how columns should connect to one another.):\n",
    "\n",
    "##### Example DataFrame\n",
    "| intercept   | group       | ab_page     | converted   | country     |  US         | UK          |\n",
    "| ----------- | ----------- | ----------- | ----------- | ----------- | ----------- | ----------- |\n",
    "| 1           |  control    |  0          |  0          |  US         |  1          |  0          |\n",
    "| 1           |  treatment  |  1          |  0          |  UK         |  0          |  1          |\n",
    "| 1           |  treatment  |  1          |  0          |  US         |  1          |  0          |\n",
    "| 1           |  control    |  0          |  0          |  US         |  1          |  0          |\n",
    "| 1           |  treatment  |  1          |  1          |  CA         |  0          |  0          |\n",
    "| 1           |  treatment  |  1          |  1          |  UK         |  0          |  1          |\n",
    "| 1           |  treatment  |  1          |  0          |  US         |  1          |  0          |\n",
    "| 1           |  control    |  0          |  1          |  US         |  1          |  0          |"
   ]
  },
  {
   "cell_type": "code",
   "execution_count": 76,
   "metadata": {
    "collapsed": true
   },
   "outputs": [
    {
     "name": "stdout",
     "output_type": "stream",
     "text": [
      "  country      group  converted  intercept  ab_page  US  UK\n",
      "0      UK    control          0          1    False   0   1\n",
      "1      US  treatment          1          1     True   1   0\n",
      "2      UK  treatment          0          1     True   0   1\n",
      "3      UK    control          0          1    False   0   1\n",
      "4      UK  treatment          0          1     True   0   1\n"
     ]
    }
   ],
   "source": [
    "import pandas as pd\n",
    "\n",
    "df = df.reset_index(drop=True)\n",
    "\n",
    "country_dummies = pd.get_dummies(df['country'])\n",
    "df['US'] = country_dummies['US']\n",
    "df['UK'] = country_dummies['UK']\n",
    "\n",
    "df['US'] = df['US'].astype(int)\n",
    "df['UK'] = df['UK'].astype(int)\n",
    "\n",
    "print(df.head())\n"
   ]
  },
  {
   "cell_type": "markdown",
   "metadata": {},
   "source": [
    "`b)`  Create your `X` matrix and `y` response column that will be passed to your model, where you are testing if there is \n",
    "* a difference in `converted` between `treatment` vs. `control`\n",
    "* a difference in `converted` between `US`, `UK`, and `CA`"
   ]
  },
  {
   "cell_type": "code",
   "execution_count": 77,
   "metadata": {},
   "outputs": [
    {
     "name": "stdout",
     "output_type": "stream",
     "text": [
      "X matrix:\n",
      "   intercept  ab_page  US  UK\n",
      "0          1    False   0   1\n",
      "1          1     True   1   0\n",
      "2          1     True   0   1\n",
      "3          1    False   0   1\n",
      "4          1     True   0   1\n",
      "\n",
      "y response:\n",
      "0    0\n",
      "1    1\n",
      "2    0\n",
      "3    0\n",
      "4    0\n",
      "Name: converted, dtype: int64\n"
     ]
    }
   ],
   "source": [
    "# Define the response variable y\n",
    "y = df['converted']\n",
    "\n",
    "# Define the feature matrix X\n",
    "# Include intercept, ab_page, US, and UK\n",
    "X = df[['intercept', 'ab_page', 'US', 'UK']]\n",
    "\n",
    "# Display the first few rows of X and y to verify\n",
    "print(\"X matrix:\")\n",
    "print(X.head())\n",
    "print(\"\\ny response:\")\n",
    "print(y.head())"
   ]
  },
  {
   "cell_type": "markdown",
   "metadata": {},
   "source": [
    "`c)` Use **statsmodels** to import and fit your regression model on the `X` and `y` from part `b)`. \n",
    "You can find the [statsmodels documentation to assist with this exercise here](https://www.statsmodels.org/stable/discretemod.html)."
   ]
  },
  {
   "cell_type": "code",
   "execution_count": 79,
   "metadata": {},
   "outputs": [
    {
     "name": "stdout",
     "output_type": "stream",
     "text": [
      "Shape of X: (69889, 4)\n",
      "Shape of y: (69889,)\n",
      "Optimization terminated successfully.\n",
      "         Current function value: 0.384463\n",
      "         Iterations 6\n",
      "                           Logit Regression Results                           \n",
      "==============================================================================\n",
      "Dep. Variable:                      y   No. Observations:                69889\n",
      "Model:                          Logit   Df Residuals:                    69885\n",
      "Method:                           MLE   Df Model:                            3\n",
      "Date:                Sat, 30 Nov 2024   Pseudo R-squ.:                0.007312\n",
      "Time:                        18:27:05   Log-Likelihood:                -26870.\n",
      "converged:                       True   LL-Null:                       -27068.\n",
      "Covariance Type:            nonrobust   LLR p-value:                 1.778e-85\n",
      "==============================================================================\n",
      "                 coef    std err          z      P>|z|      [0.025      0.975]\n",
      "------------------------------------------------------------------------------\n",
      "const         -2.1930      0.053    -41.308      0.000      -2.297      -2.089\n",
      "x1             0.4466      0.023     19.534      0.000       0.402       0.491\n",
      "x2             0.0727      0.053      1.372      0.170      -0.031       0.177\n",
      "x3             0.0067      0.056      0.120      0.905      -0.103       0.117\n",
      "==============================================================================\n"
     ]
    }
   ],
   "source": [
    "import statsmodels.api as sm\n",
    "import numpy as np\n",
    "\n",
    "# Convert y and X to numpy arrays with float64 type\n",
    "y_array = np.asarray(y, dtype=np.float64)\n",
    "X_array = np.asarray(X, dtype=np.float64)\n",
    "\n",
    "# Print the shapes of X and y to verify\n",
    "print(f\"Shape of X: {X_array.shape}\")\n",
    "print(f\"Shape of y: {y_array.shape}\")\n",
    "\n",
    "# Fit the logistic regression model\n",
    "logit_mod = sm.Logit(y_array, X_array)\n",
    "logit_res = logit_mod.fit()\n",
    "\n",
    "# Print the summary of the model\n",
    "print(logit_res.summary())"
   ]
  },
  {
   "cell_type": "markdown",
   "metadata": {},
   "source": [
    "`d)` Provide the summary of your model below."
   ]
  },
  {
   "cell_type": "markdown",
   "metadata": {},
   "source": [
    "# Logistic Regression Model Summary\n",
    "\n",
    "## Model Overview\n",
    "* **Dependent Variable (`y`)**: The binary outcome variable indicating conversion.\n",
    "* **Number of Observations**: 69,889.\n",
    "* **Model**: Logistic regression using Maximum Likelihood Estimation (MLE).\n",
    "* **Pseudo R-squared**: 0.007312, indicating a low proportion of variance explained by the model.\n",
    "* **Log-Likelihood**: -26,870, a measure of model fit.\n",
    "* **LL-Null**: -27,068, the log-likelihood of the null model.\n",
    "* **LLR p-value**: 1.778e-85, indicating the overall significance of the model.\n",
    "\n",
    "## Coefficients\n",
    "\n",
    "### Intercept (`const`):\n",
    "* Coefficient: -2.1930\n",
    "* Standard Error: 0.053\n",
    "* z-value: -41.308\n",
    "* p-value: 0.000\n",
    "* 95% Confidence Interval: [-2.297, -2.089]\n",
    "* Interpretation: The intercept is statistically significant, indicating the baseline log-odds of conversion when all predictors are zero.\n",
    "\n",
    "### `x1` (likely `ab_page`):\n",
    "* Coefficient: 0.4466\n",
    "* Standard Error: 0.023\n",
    "* z-value: 19.534\n",
    "* p-value: 0.000\n",
    "* 95% Confidence Interval: [0.402, 0.491]\n",
    "* Interpretation: This coefficient is statistically significant, suggesting that the treatment page (`ab_page`) has a significant effect on conversion rates.\n",
    "\n",
    "### `x2` (likely `US`):\n",
    "* Coefficient: 0.0727\n",
    "* Standard Error: 0.053\n",
    "* z-value: 1.372\n",
    "* p-value: 0.170\n",
    "* 95% Confidence Interval: [-0.031, 0.177]\n",
    "* Interpretation: This coefficient is not statistically significant, indicating no strong evidence of a difference in conversion rates for the US compared to the baseline (CA).\n",
    "\n",
    "### `x3` (likely `UK`):\n",
    "* Coefficient: 0.0067\n",
    "* Standard Error: 0.056\n",
    "* z-value: 0.120\n",
    "* p-value: 0.905\n",
    "* 95% Confidence Interval: [-0.103, 0.117]\n",
    "* Interpretation: This coefficient is not statistically significant, indicating no strong evidence of a difference in conversion rates for the UK compared to the baseline (CA).\n",
    "\n",
    "## Conclusion\n",
    "* The model suggests that the treatment page (`ab_page`) significantly affects conversion rates, while the country variables (`US` and `UK`) do not show significant effects compared to the baseline (`CA`).\n",
    "* The low Pseudo R-squared value indicates that the model explains only a small portion of the variance in conversion rates."
   ]
  },
  {
   "cell_type": "markdown",
   "metadata": {},
   "source": [
    "`e)` What do the `p-values` associated with `US` and `UK` suggest in relation to how they impact `converted`? "
   ]
  },
  {
   "cell_type": "markdown",
   "metadata": {},
   "source": [
    "**Answer**\n",
    "\n",
    "# Analysis of Country Effects on Conversion Rates\n",
    "\n",
    "## P-values Interpretation\n",
    "\n",
    "### US (`x2`):\n",
    "* **P-value**: 0.170\n",
    "* **Interpretation**: The p-value for the `US` variable is greater than the common significance level of 0.05. This suggests that there is no statistically significant evidence to conclude that being from the US has an impact on the conversion rate compared to the baseline category (CA).\n",
    "\n",
    "### UK (`x3`):\n",
    "* **P-value**: 0.905\n",
    "* **Interpretation**: The p-value for the `UK` variable is much greater than 0.05, indicating that there is no statistically significant evidence to suggest that being from the UK affects the conversion rate compared to the baseline category (CA).\n",
    "\n",
    "## Conclusion\n",
    "* Both the `US` and `UK` variables do not show statistically significant effects on conversion rates. This means that, according to your model, the likelihood of conversion is not significantly different for users from the US or UK compared to those from CA.\n",
    "* These findings suggest that the differences in conversion rates between these countries are not strong enough to be considered statistically significant in this context."
   ]
  },
  {
   "cell_type": "markdown",
   "metadata": {},
   "source": [
    "<a id='finalcheck'></a>\n",
    "## Final Check!\n",
    "\n",
    "Congratulations!  You have reached the end of the A/B Test Results project!  You should be very proud of all you have accomplished!\n",
    "\n",
    "> **Tip**: Once you are satisfied with your work here, check over your notebook to make sure that it satisfies all the specifications mentioned in the rubric. You should also probably remove all of the \"Hints\" and \"Tips\" like this one so that the presentation is as polished as possible.\n",
    "\n",
    "\n",
    "<a id='submission'></a>\n",
    "## Submission\n",
    "\n",
    "Please follow the directions in the classroom to submit this notebook, as well as your completed slides."
   ]
  },
  {
   "cell_type": "code",
   "execution_count": 80,
   "metadata": {},
   "outputs": [
    {
     "name": "stdout",
     "output_type": "stream",
     "text": [
      "[NbConvertApp] Converting notebook ab_test_results.ipynb to html\n",
      "[NbConvertApp] WARNING | Alternative text is missing on 2 image(s).\n",
      "[NbConvertApp] Writing 471117 bytes to ab_test_results.html\n"
     ]
    }
   ],
   "source": [
    "#Convert to HTML\n",
    "!jupyter nbconvert --to html ab_test_results.ipynb"
   ]
  },
  {
   "cell_type": "code",
   "execution_count": 81,
   "metadata": {},
   "outputs": [
    {
     "name": "stdout",
     "output_type": "stream",
     "text": [
      "[NbConvertApp] Converting notebook ab_test_results.ipynb to pdf\n",
      "[NbConvertApp] Support files will be in ab_test_results_files/\n",
      "[NbConvertApp] Making directory ./ab_test_results_files\n",
      "[NbConvertApp] Writing 99569 bytes to notebook.tex\n",
      "[NbConvertApp] Building PDF\n",
      "[NbConvertApp] Running xelatex 3 times: ['xelatex', 'notebook.tex', '-quiet']\n",
      "[NbConvertApp] Running bibtex 1 time: ['bibtex', 'notebook']\n",
      "[NbConvertApp] WARNING | bibtex had problems, most likely because there were no citations\n",
      "[NbConvertApp] PDF successfully created\n",
      "[NbConvertApp] Writing 161853 bytes to ab_test_results.pdf\n"
     ]
    }
   ],
   "source": [
    "#Convert to PDF\n",
    "!jupyter nbconvert --to pdf ab_test_results.ipynb"
   ]
  }
 ],
 "metadata": {
  "kernelspec": {
   "display_name": "Statistics",
   "language": "python",
   "name": "statistics"
  },
  "language_info": {
   "codemirror_mode": {
    "name": "ipython",
    "version": 3
   },
   "file_extension": ".py",
   "mimetype": "text/x-python",
   "name": "python",
   "nbconvert_exporter": "python",
   "pygments_lexer": "ipython3",
   "version": "3.10.15"
  },
  "vscode": {
   "interpreter": {
    "hash": "b34053042c33de92a8f6946323cebca57e40086129f2774c267076f4fb825384"
   }
  }
 },
 "nbformat": 4,
 "nbformat_minor": 2
}
